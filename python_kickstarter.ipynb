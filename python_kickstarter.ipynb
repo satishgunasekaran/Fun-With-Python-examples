{
  "nbformat": 4,
  "nbformat_minor": 0,
  "metadata": {
    "colab": {
      "name": "python_kickstarter.ipynb",
      "provenance": [],
      "collapsed_sections": [
        "KBceF_hd1WhO",
        "6UR0f_AD58Vo",
        "b02ao6ne6AWr",
        "gUJ47OUTMlUh"
      ],
      "authorship_tag": "ABX9TyNQoXuBbLxycexnfl6j0OlZ",
      "include_colab_link": true
    },
    "kernelspec": {
      "name": "python3",
      "display_name": "Python 3"
    },
    "language_info": {
      "name": "python"
    }
  },
  "cells": [
    {
      "cell_type": "markdown",
      "metadata": {
        "id": "view-in-github",
        "colab_type": "text"
      },
      "source": [
        "<a href=\"https://colab.research.google.com/github/Satish-Devs/Fun-With-Python-examples/blob/main/python_kickstarter.ipynb\" target=\"_parent\"><img src=\"https://colab.research.google.com/assets/colab-badge.svg\" alt=\"Open In Colab\"/></a>"
      ]
    },
    {
      "cell_type": "markdown",
      "metadata": {
        "id": "ovgP0uttcJHs"
      },
      "source": [
        "# Exercise Questions:"
      ]
    },
    {
      "cell_type": "markdown",
      "metadata": {
        "id": "qnPHZNLmcX-B"
      },
      "source": [
        "## 1. Given a number count the total number of digits in it and print the reverse of the given number."
      ]
    },
    {
      "cell_type": "code",
      "metadata": {
        "colab": {
          "base_uri": "https://localhost:8080/"
        },
        "id": "z01xVtuBcYk0",
        "outputId": "a4448e94-44b6-4ef9-ddc9-07d073bd6611"
      },
      "source": [
        "num = u't'\n",
        "t = 0\n",
        "num = input(\"Enter a number : \")\n",
        "while num.isnumeric()!=True:\n",
        "  print(\"Please enter a valid number\")\n",
        "  num = input(\"Enter a number : \")\n",
        "  \n",
        "count = len(num)\n",
        "num_rev = num[::-1]\n",
        "\n",
        "print(\"The count of number entered is {}\".format(count))\n",
        "print(\"The reverse of number entered is {}\".format(num_rev))\n",
        "\n"
      ],
      "execution_count": null,
      "outputs": [
        {
          "output_type": "stream",
          "name": "stdout",
          "text": [
            "Enter a number : 1223\n",
            "The count of number entered is 4\n",
            "The reverse of number entered is 3221\n"
          ]
        }
      ]
    },
    {
      "cell_type": "markdown",
      "metadata": {
        "id": "KBceF_hd1WhO"
      },
      "source": [
        "## 2. Display Fibonacci series up to 10 terms"
      ]
    },
    {
      "cell_type": "markdown",
      "metadata": {
        "id": "6UR0f_AD58Vo"
      },
      "source": [
        "### Method1"
      ]
    },
    {
      "cell_type": "code",
      "metadata": {
        "colab": {
          "base_uri": "https://localhost:8080/"
        },
        "id": "ibEbrMQ3clMq",
        "outputId": "c1f13f83-3f6e-4412-f227-5b562182c4c3"
      },
      "source": [
        "#function definition\n",
        "def Fibonacci(n):\n",
        "\n",
        "  #Check if input is less than 0 \n",
        "  #print incorrect input\n",
        "\n",
        "  if n< 0:\n",
        "    print(\"incorrect input\")\n",
        "\n",
        "  #Check if n is 0\n",
        "  #then return 0\n",
        "\n",
        "  elif n==0:\n",
        "    return 0\n",
        "\n",
        "  #Check if n is 1 or 2 \n",
        "  #then return 1\n",
        "\n",
        "  elif n == 1 or n ==2:\n",
        "    return 1\n",
        "\n",
        "  else:\n",
        "    return Fibonacci(n-1) + Fibonacci(n-2)  \n",
        "lst = []\n",
        "for i in range(10):\n",
        "  lst.append(Fibonacci(i))\n",
        "\n",
        "print(*lst)  "
      ],
      "execution_count": null,
      "outputs": [
        {
          "output_type": "stream",
          "text": [
            "0 1 1 2 3 5 8 13 21 34\n"
          ],
          "name": "stdout"
        }
      ]
    },
    {
      "cell_type": "markdown",
      "metadata": {
        "id": "b02ao6ne6AWr"
      },
      "source": [
        "### Method 2"
      ]
    },
    {
      "cell_type": "code",
      "metadata": {
        "colab": {
          "base_uri": "https://localhost:8080/"
        },
        "id": "3TkhPYUf6CZO",
        "outputId": "6a1211a5-4ff6-4499-e4b9-a8dd8239b49c"
      },
      "source": [
        "#Dynamic programming\n",
        "\n",
        "fibArray = [0,1]\n",
        "\n",
        "def fibonacci(n):\n",
        "\n",
        "  if n<=0:\n",
        "    print(\"Incorrect input\")\n",
        "  \n",
        "  #Check if n is less than len(fibArray)\n",
        "\n",
        "  elif n <= len(fibArray):\n",
        "    return fibArray[n-1]\n",
        "  else:\n",
        "    temp_fib = fibonacci(n-1)+fibonacci(n-2)\n",
        "\n",
        "    fibArray.append(temp_fib)\n",
        "    return temp_fib\n",
        "\n",
        "# print(fibonacci(10))\n",
        "fibonacci(10)\n",
        "print(fibArray)"
      ],
      "execution_count": null,
      "outputs": [
        {
          "output_type": "stream",
          "text": [
            "[0, 1, 1, 2, 3, 5, 8, 13, 21, 34]\n"
          ],
          "name": "stdout"
        }
      ]
    },
    {
      "cell_type": "markdown",
      "metadata": {
        "id": "gUJ47OUTMlUh"
      },
      "source": [
        "### Method 3 - Space optimized"
      ]
    },
    {
      "cell_type": "code",
      "metadata": {
        "id": "VMWldB8k7xK-",
        "colab": {
          "base_uri": "https://localhost:8080/"
        },
        "outputId": "599f3d9d-d19a-41c7-b207-58b4464222db"
      },
      "source": [
        "def fibonacci(n):\n",
        "\n",
        "  #taking first 2 numbers as 0 and 1\n",
        "\n",
        "  a = 0\n",
        "  b = 1\n",
        "\n",
        "  series = [a,b]\n",
        "\n",
        "  #Checking if n is less than 0\n",
        "\n",
        "  if n<0:\n",
        "    print(\"Incorrect input\")\n",
        "  \n",
        "  #Checking if n = 0\n",
        "\n",
        "  elif n==0:\n",
        "    return a\n",
        "  \n",
        "  #Checking if n = 1\n",
        "  elif n==1:\n",
        "    return b\n",
        "\n",
        "  else:\n",
        "    for i in range(1,n):\n",
        "      c = a+b\n",
        "      a = b\n",
        "      b = c\n",
        "      series.append(b)\n",
        "    return series\n",
        "\n",
        "print(fibonacci(10))\n",
        "\n",
        "\n",
        "  \n",
        "\n"
      ],
      "execution_count": null,
      "outputs": [
        {
          "output_type": "stream",
          "text": [
            "[0, 1, 1, 2, 3, 5, 8, 13, 21, 34, 55]\n"
          ],
          "name": "stdout"
        }
      ]
    },
    {
      "cell_type": "markdown",
      "metadata": {
        "id": "BvwajYLvPoBG"
      },
      "source": [
        "## 3. Write a recursive function to calculate the sum of numbers from 0 to 10"
      ]
    },
    {
      "cell_type": "code",
      "metadata": {
        "colab": {
          "base_uri": "https://localhost:8080/"
        },
        "id": "Z94l4rlYPlMg",
        "outputId": "d31afef5-f724-4311-ead3-3a90156089da"
      },
      "source": [
        "def sum(n):\n",
        "  if n<0:\n",
        "    return \"Invalid Input\"\n",
        "  elif n<=1:\n",
        "    return n\n",
        "  else:\n",
        "    return n + sum(n-1)\n",
        "\n",
        "n = int(input())\n",
        "sum(n)  \n",
        "\n"
      ],
      "execution_count": null,
      "outputs": [
        {
          "output_type": "stream",
          "text": [
            "10\n"
          ],
          "name": "stdout"
        },
        {
          "output_type": "execute_result",
          "data": {
            "text/plain": [
              "55"
            ]
          },
          "metadata": {
            "tags": []
          },
          "execution_count": 12
        }
      ]
    },
    {
      "cell_type": "markdown",
      "metadata": {
        "id": "1W9L3tOKRdPI"
      },
      "source": [
        "## 4. Given a string, return the sum and average of the digits that appear in the string, ignoring all other characters."
      ]
    },
    {
      "cell_type": "code",
      "metadata": {
        "colab": {
          "base_uri": "https://localhost:8080/"
        },
        "id": "r81hz5ocQqyt",
        "outputId": "448fc157-c1b8-496a-ac12-d3a5291578a5"
      },
      "source": [
        "str1 = input()\n",
        "num = []\n",
        "for i in str1:\n",
        "  if i.isnumeric() == True:\n",
        "    num.append(int(i))\n",
        "\n",
        "print(\"The digits in the entered string are \",*num)\n",
        "\n",
        "print(\"Sum = {}\".format(sum(num)))\n",
        "print(\"Average = {}\".format(sum(num)/len(num)))"
      ],
      "execution_count": null,
      "outputs": [
        {
          "output_type": "stream",
          "text": [
            "78787sdjasdjsd989898\n",
            "The digits in the entered string are  7 8 7 8 7 9 8 9 8 9 8\n",
            "Sum = 88\n",
            "Average = 8.0\n"
          ],
          "name": "stdout"
        }
      ]
    },
    {
      "cell_type": "markdown",
      "metadata": {
        "id": "fR-fMf8Q-VK9"
      },
      "source": [
        "## 5. Split a given string on hyphens into several substrings and display each substring"
      ]
    },
    {
      "cell_type": "markdown",
      "metadata": {
        "id": "fscUPopn-mXO"
      },
      "source": [
        "### Method 1"
      ]
    },
    {
      "cell_type": "code",
      "metadata": {
        "colab": {
          "base_uri": "https://localhost:8080/"
        },
        "id": "L4E_0vQgQ1iA",
        "outputId": "658f006b-cac7-4ad9-88f8-40f857961c9e"
      },
      "source": [
        "str1 = input() #Ramu-Student-4567-ramu@sample.co.in\n",
        "\n",
        "str1 = str1.split(\"-\")\n",
        "print(*str1)"
      ],
      "execution_count": null,
      "outputs": [
        {
          "output_type": "stream",
          "text": [
            "Ramu-Student-4567-ramu@sample.co.in\n",
            "Ramu Student 4567 ramu@sample.co.in\n"
          ],
          "name": "stdout"
        }
      ]
    },
    {
      "cell_type": "markdown",
      "metadata": {
        "id": "mtoYTPxYBlLV"
      },
      "source": [
        "### Method 2"
      ]
    },
    {
      "cell_type": "code",
      "metadata": {
        "colab": {
          "base_uri": "https://localhost:8080/"
        },
        "id": "pwCAxgBx_TIk",
        "outputId": "d67df8a3-7b9a-4bdb-e9b1-4b4da829e381"
      },
      "source": [
        "str1 = input()+'-'\n",
        "lst = []\n",
        "\n",
        "for s in str1:\n",
        "  if s == \"-\":\n",
        "    #getting index of hyphen(-)\n",
        "    i = str1.index(s)\n",
        "\n",
        "    #appending all the characters before the '-' symbol  \n",
        "    lst.append(str1[:i])\n",
        "    \n",
        "    #Checking if it is last hyphen for preventing the out of range error \n",
        "    if str1.index(s)!= len(str1)-1:  \n",
        "\n",
        "      #ignoring all characters that are before the hypen \n",
        "      str1 = str1[str1.index(s)+1:]  \n",
        "    \n",
        "\n",
        "print(*lst)\n"
      ],
      "execution_count": null,
      "outputs": [
        {
          "output_type": "stream",
          "text": [
            "Ramu-Student-4567-ramu@sample.co.in\n",
            "Ramu Student 4567 ramu@sample.co.in\n"
          ],
          "name": "stdout"
        }
      ]
    },
    {
      "cell_type": "markdown",
      "metadata": {
        "id": "szGRhctvCbnw"
      },
      "source": [
        "## 6.Find whether a given string has unique characters, return True, if duplicates return False."
      ]
    },
    {
      "cell_type": "code",
      "metadata": {
        "colab": {
          "base_uri": "https://localhost:8080/"
        },
        "id": "bDLKxec_Af6b",
        "outputId": "c31aee9a-fdc4-41fd-f8f6-21c060d9a32d"
      },
      "source": [
        "str1 = input()\n",
        "dict1 ={}\n",
        "\n",
        "for i in str1:\n",
        "  dict1[i] = str1.count(i)\n",
        "\n",
        "if max(dict1.values()) <= 1:\n",
        "  print(True)\n",
        "else:\n",
        "  print(False)\n",
        "\n",
        "  for i in str1:\n",
        "    if dict1[i] >1:\n",
        "      print(\"{} has repeated {} times\".format(i,dict1[i]))\n",
        "      dict1[i] =0\n"
      ],
      "execution_count": null,
      "outputs": [
        {
          "output_type": "stream",
          "text": [
            "789\n",
            "True\n"
          ],
          "name": "stdout"
        }
      ]
    },
    {
      "cell_type": "markdown",
      "metadata": {
        "id": "ED-nLMibFq2M"
      },
      "source": [
        "## 7.Given a list, iterate it, and display numbers divisible by five, and if you find a number greater than 150, stop the loop iteration"
      ]
    },
    {
      "cell_type": "code",
      "metadata": {
        "id": "P1QukHdNDFQq"
      },
      "source": [
        "lst = list(map(int,input().split()))\n",
        "\n",
        "for i in lst:\n",
        "  if i>150:\n",
        "    print(\"\\n{} is greater than 150\\nHence loop stopped\".format(i))\n",
        "    break\n",
        "\n",
        "  elif i%5==0:\n",
        "    print(i,end = \" \")  "
      ],
      "execution_count": null,
      "outputs": []
    },
    {
      "cell_type": "markdown",
      "metadata": {
        "id": "t2KilXImG244"
      },
      "source": [
        "## 8.Find the sum of the series 1 +11 + 111 + 1111 + ... n terms"
      ]
    },
    {
      "cell_type": "markdown",
      "metadata": {
        "id": "p_2CwvIVJMh_"
      },
      "source": [
        "### Method 1"
      ]
    },
    {
      "cell_type": "code",
      "metadata": {
        "colab": {
          "base_uri": "https://localhost:8080/"
        },
        "id": "2Mez6LPUDR-b",
        "outputId": "d563ea76-6519-4c7c-d56c-59d29b9d7a33"
      },
      "source": [
        "\n",
        "n = int(input())\n",
        "\n",
        "def one_series(n):\n",
        "  if n == 1:\n",
        "    return 1\n",
        "  else:  \n",
        "    return  int(n*'1')  + one_series(n-1)\n",
        "    # return  (n*10+1)  + one_series(n-1)\n",
        "\n",
        "print(one_series(n))"
      ],
      "execution_count": null,
      "outputs": [
        {
          "output_type": "stream",
          "text": [
            "5\n",
            "12345\n"
          ],
          "name": "stdout"
        }
      ]
    },
    {
      "cell_type": "markdown",
      "metadata": {
        "id": "eyuEhNgBJTR4"
      },
      "source": [
        "### Method 2"
      ]
    },
    {
      "cell_type": "code",
      "metadata": {
        "colab": {
          "base_uri": "https://localhost:8080/"
        },
        "id": "42XAcRGoG1UG",
        "outputId": "804a483d-2631-4e0a-a1be-9e4bc2164f0c"
      },
      "source": [
        "n = int(input())\n",
        "sum = 0\n",
        "j = 1\n",
        "\n",
        "for i in range(1,n+1): \n",
        "  sum += j\n",
        "  j = (j*10) +1 \n",
        "\n",
        "print(sum)"
      ],
      "execution_count": null,
      "outputs": [
        {
          "output_type": "stream",
          "text": [
            "5\n",
            "12345\n"
          ],
          "name": "stdout"
        }
      ]
    },
    {
      "cell_type": "markdown",
      "metadata": {
        "id": "9iWIZvbZJ_EO"
      },
      "source": [
        "## 9. Calculate income tax for the given income by adhering to the below rules"
      ]
    },
    {
      "cell_type": "code",
      "metadata": {
        "colab": {
          "base_uri": "https://localhost:8080/"
        },
        "id": "jd9zlifcJ161",
        "outputId": "58be7a59-fa30-4847-d73e-ef8e8ec6b00a"
      },
      "source": [
        "income = input()\n",
        "income = income.replace(',','')\n",
        "income = int(income)\n",
        "\n",
        "tax_amt1 = 0\n",
        "tax_amt2 = 0\n",
        "tax_amt3 = 0\n",
        "\n",
        "\n",
        "\n",
        "if (income > 10000) and (income >= 20000):\n",
        "  tax_amt2 = 10000 \n",
        "\n",
        "elif (income > 10000) and (income < 20000):\n",
        "  tax_amt2 = income - 10000 \n",
        "\n",
        "if income > 20000:\n",
        "  tax_amt3 = income - 20000\n",
        "\n",
        "\n",
        "total_tax = tax_amt1*0 + tax_amt2*0.10 + tax_amt3*0.20\n",
        "\n",
        "print(\"The total tax is {}\".format(total_tax))\n"
      ],
      "execution_count": null,
      "outputs": [
        {
          "output_type": "stream",
          "text": [
            "1,00,000\n",
            "The total taxt is 17000.0\n"
          ],
          "name": "stdout"
        }
      ]
    },
    {
      "cell_type": "markdown",
      "metadata": {
        "id": "9C87-JeiQ-nu"
      },
      "source": [
        "## 10. Given a two Python list. Iterate both lists simultaneously such that list1 should display item in original order and list2 in reverse order"
      ]
    },
    {
      "cell_type": "code",
      "metadata": {
        "colab": {
          "base_uri": "https://localhost:8080/"
        },
        "id": "9K0wr_S0NYhs",
        "outputId": "5e97ba14-aa96-4c67-ddf0-56bc15a77d74"
      },
      "source": [
        "n = int(input(\"Enter the size of the array\")) \n",
        "list1 = list(input().split())[:n]\n",
        "list2 = list(input().split())[:n]\n",
        "\n",
        "for i in range(n):\n",
        "  print(\"list1[{}] = {}\".format(i,list1[i]),\"\\tlist2[{}] = {}\".format(-(i+1),list2[-(i+1)]))\n",
        "  \n"
      ],
      "execution_count": null,
      "outputs": [
        {
          "output_type": "stream",
          "text": [
            "Enter the size of the array5\n",
            "1 2 3 4 5\n",
            "1 2 3 4 5\n",
            "list1[0] = 1 \tlist2[-1] = 5\n",
            "list1[1] = 2 \tlist2[-2] = 4\n",
            "list1[2] = 3 \tlist2[-3] = 3\n",
            "list1[3] = 4 \tlist2[-4] = 2\n",
            "list1[4] = 5 \tlist2[-5] = 1\n"
          ],
          "name": "stdout"
        }
      ]
    },
    {
      "cell_type": "markdown",
      "metadata": {
        "id": "zqAsNZuGUHfu"
      },
      "source": [
        "## 11. Remove empty strings from the list of strings"
      ]
    },
    {
      "cell_type": "code",
      "metadata": {
        "colab": {
          "base_uri": "https://localhost:8080/"
        },
        "id": "fTNSv1wHTqsX",
        "outputId": "a184e899-cb97-499e-fbf8-f2028338126a"
      },
      "source": [
        "lst = list(input())\n",
        "\n",
        "while(lst.count(\" \")):\n",
        "  lst.remove(\" \")\n",
        "\n",
        "print(lst)"
      ],
      "execution_count": null,
      "outputs": [
        {
          "output_type": "stream",
          "text": [
            "good morning      \n",
            "['g', 'o', 'o', 'd', 'm', 'o', 'r', 'n', 'i', 'n', 'g']\n"
          ],
          "name": "stdout"
        }
      ]
    },
    {
      "cell_type": "markdown",
      "metadata": {
        "id": "xFxU8j7OVrcZ"
      },
      "source": [
        "## 12. Given a Python list, find value 20 in the list, and if it is present, replace it with 200. Only update the first occurrence of a value"
      ]
    },
    {
      "cell_type": "markdown",
      "metadata": {
        "id": "qacqqINVWfR3"
      },
      "source": [
        "## Method 1\n"
      ]
    },
    {
      "cell_type": "code",
      "metadata": {
        "colab": {
          "base_uri": "https://localhost:8080/"
        },
        "id": "WuvjZzyjUOtf",
        "outputId": "b947b486-02ab-4ca4-e244-144349909fa1"
      },
      "source": [
        "lst = list(map(int,input().split()))\n",
        "\n",
        "# lst = [200 if i == 20 else i for i in lst ]\n",
        "\n",
        "for i in range(len(lst)):\n",
        "  if lst[i] == 20:\n",
        "    lst[i] = 200\n",
        "    break\n",
        "print(lst)"
      ],
      "execution_count": null,
      "outputs": [
        {
          "output_type": "stream",
          "text": [
            "20 202 20\n",
            "[200, 202, 200]\n"
          ],
          "name": "stdout"
        }
      ]
    },
    {
      "cell_type": "markdown",
      "metadata": {
        "id": "aOFRp_vUWmlU"
      },
      "source": [
        "## Method 2\n"
      ]
    },
    {
      "cell_type": "code",
      "metadata": {
        "colab": {
          "base_uri": "https://localhost:8080/"
        },
        "id": "3tF2CVZhWOAI",
        "outputId": "c3bc8f9b-afe5-41c8-f731-9a95454f32ba"
      },
      "source": [
        "lst = list(map(int,input().split()))\n",
        "\n",
        "lst[lst.index(20)] = 200\n",
        "\n",
        "print(lst)"
      ],
      "execution_count": null,
      "outputs": [
        {
          "output_type": "stream",
          "text": [
            "20 20 200 20\n",
            "[200, 20, 200, 20]\n"
          ],
          "name": "stdout"
        }
      ]
    },
    {
      "cell_type": "markdown",
      "metadata": {
        "id": "PudmUPJXYAJa"
      },
      "source": [
        "## 13.Write a Python program to sort a given dictionary by key."
      ]
    },
    {
      "cell_type": "code",
      "metadata": {
        "colab": {
          "base_uri": "https://localhost:8080/"
        },
        "id": "L3wvJqVPW07K",
        "outputId": "0f1fd086-3fdf-4c56-9106-1381bdf1441e"
      },
      "source": [
        "dict1 = {3:\"Three\",5:\"Five\",4:\"Four\",2:\"Two\",1:\"One\"}\n",
        "sorted_keys = sorted(dict1)\n",
        "sorted_dict = {}\n",
        "for i in range(1,len(sorted_keys)+1):\n",
        "  sorted_dict[i] = dict1[i]\n",
        "print(sorted_dict.items()) "
      ],
      "execution_count": null,
      "outputs": [
        {
          "output_type": "stream",
          "text": [
            "dict_items([(1, 'One'), (2, 'Two'), (3, 'Three'), (4, 'Four'), (5, 'Five')])\n"
          ],
          "name": "stdout"
        }
      ]
    },
    {
      "cell_type": "markdown",
      "metadata": {
        "id": "8SQSkaRuZdV-"
      },
      "source": [
        "## 14. Write a Python program to combine two dictionary adding values for common keys"
      ]
    },
    {
      "cell_type": "code",
      "metadata": {
        "colab": {
          "base_uri": "https://localhost:8080/"
        },
        "id": "kkykTd88YrZU",
        "outputId": "028e9871-c3c6-48bb-c539-2d25bc4395b8"
      },
      "source": [
        "M1 = {\"Ganguly\":67,\"Ramu\":98,\"Chandru\": 87,\"Pratap\": 100,\"Jamuna\": 98}\n",
        "M2 = {\"Ramu\":99,\"Chandru\": 91,\"Pratap\": 96,\"Jamuna\": 100,\"Motwani\":91}\n",
        "total ={}\n",
        "for key in M1:\n",
        "  if key in M2:\n",
        "    total[key] = M1[key]+M2[key]\n",
        "  else:\n",
        "    pass\n",
        "\n",
        "print(total.items())\n"
      ],
      "execution_count": null,
      "outputs": [
        {
          "output_type": "stream",
          "text": [
            "dict_items([('Ramu', 197), ('Chandru', 178), ('Pratap', 196), ('Jamuna', 198)])\n"
          ],
          "name": "stdout"
        }
      ]
    },
    {
      "cell_type": "markdown",
      "metadata": {
        "id": "SCDVc6R-bggt"
      },
      "source": [
        "## 15. Write a Python program to create and display all combinations of letters, selecting each letter from a different key in a dictionary.\n",
        "\n",
        "Sample data : {'1':['a','b'], '2':['c','d']}\n",
        "\n",
        "Expected Output:\n",
        "\n",
        "ac\n",
        "\n",
        "ad\n",
        "\n",
        "bc\n",
        "\n",
        "bd"
      ]
    },
    {
      "cell_type": "markdown",
      "metadata": {
        "id": "8IFPk_iVfcQc"
      },
      "source": [
        "### Method 1"
      ]
    },
    {
      "cell_type": "code",
      "metadata": {
        "colab": {
          "base_uri": "https://localhost:8080/"
        },
        "id": "N2106-DYbCPh",
        "outputId": "a49ba1cf-e8f9-470d-9c08-657ddcad1b84"
      },
      "source": [
        "dict1 = {'1':['a','b'],'2':['c','d']}\n",
        "\n",
        "# for key1 in dict1:\n",
        "#   for key2 in dict1:\n",
        "#     for i in range(len(key1)):\n",
        "#       for j in range(len(key2)):  \n",
        "#         if key1 != key2:\n",
        "#               print(dict1[key1][i]+ dict1[key2][j])\n",
        "       \n",
        "for x in dict1['1']:\n",
        "  for y in dict1['2']:\n",
        "    print(x+y)\n"
      ],
      "execution_count": null,
      "outputs": [
        {
          "output_type": "stream",
          "text": [
            "ac\n",
            "ad\n",
            "bc\n",
            "bd\n"
          ],
          "name": "stdout"
        }
      ]
    },
    {
      "cell_type": "markdown",
      "metadata": {
        "id": "m9aJ7iMofgIq"
      },
      "source": [
        "### Method 2"
      ]
    },
    {
      "cell_type": "code",
      "metadata": {
        "colab": {
          "base_uri": "https://localhost:8080/"
        },
        "id": "1Abd4pcNcF9M",
        "outputId": "14d94b3e-7d5b-432c-a956-0ea9acdf4c85"
      },
      "source": [
        "import itertools\n",
        "dict1 = {'1':['a','b'],'2':['c','d']}\n",
        "\n",
        "for combo in itertools.product(*[dict1[k] for k in sorted(dict1.keys())] ):\n",
        "  print(''.join(combo))\n"
      ],
      "execution_count": null,
      "outputs": [
        {
          "output_type": "stream",
          "text": [
            "ac\n",
            "ad\n",
            "bc\n",
            "bd\n"
          ],
          "name": "stdout"
        }
      ]
    },
    {
      "cell_type": "markdown",
      "metadata": {
        "id": "MP2Sz4YOjMDy"
      },
      "source": [
        "### Method 3"
      ]
    },
    {
      "cell_type": "code",
      "metadata": {
        "colab": {
          "base_uri": "https://localhost:8080/"
        },
        "id": "QUsA6LXXeoKT",
        "outputId": "0e6f37e1-99c3-44e9-f646-d75a95af8cc4"
      },
      "source": [
        "\n",
        "dict1 = {'1':['a','b'],'2':['c','d']}\n",
        "lst = []\n",
        "comb_lst = []\n",
        "for k in dict1.keys():\n",
        "  lst.append(dict1[k])\n",
        "\n",
        "for i in lst:\n",
        "  for j in lst:\n",
        "    if i!=j:\n",
        "      for a in i:\n",
        "        for b in j:\n",
        "          comb_lst.append(a+b)\n",
        "      \n",
        "for i in comb_lst:\n",
        "  for j in comb_lst:\n",
        "    if (i!=j) and (i[::-1]==j):\n",
        "      comb_lst.remove(j)\n",
        "\n",
        "print(comb_lst)"
      ],
      "execution_count": null,
      "outputs": [
        {
          "output_type": "stream",
          "text": [
            "['ac', 'ad', 'bc', 'bd']\n"
          ],
          "name": "stdout"
        }
      ]
    },
    {
      "cell_type": "markdown",
      "metadata": {
        "id": "QrwlcLs3jXpw"
      },
      "source": [
        "## 16. Write a Python program to combine two lists into a dictionary, where the elements of the first one serve as the keys and the elements of the second one serve as the values."
      ]
    },
    {
      "cell_type": "markdown",
      "metadata": {
        "id": "RP5sLH9UjgfI"
      },
      "source": [
        "### Method 1"
      ]
    },
    {
      "cell_type": "code",
      "metadata": {
        "colab": {
          "base_uri": "https://localhost:8080/"
        },
        "id": "PT6QIwihhYap",
        "outputId": "1aa8f33d-c667-4597-d3d0-f0560320e092"
      },
      "source": [
        "lst1 = ['a', 'b', 'c', 'd', 'e', 'f']\n",
        "lst2 = [1, 2, 3, 4, 5]\n",
        "dict1 = {}\n",
        "min_index = min(len(lst1),len(lst2))\n",
        "for i in range(min_index):\n",
        "  dict1[lst1[i]] = lst2[i]\n",
        "print(dict1.items())"
      ],
      "execution_count": null,
      "outputs": [
        {
          "output_type": "stream",
          "text": [
            "dict_items([('a', 1), ('b', 2), ('c', 3), ('d', 4), ('e', 5)])\n"
          ],
          "name": "stdout"
        }
      ]
    },
    {
      "cell_type": "markdown",
      "metadata": {
        "id": "JV27zVqmlUIj"
      },
      "source": [
        "## Method 2"
      ]
    },
    {
      "cell_type": "code",
      "metadata": {
        "colab": {
          "base_uri": "https://localhost:8080/"
        },
        "id": "D-vytAZAiraZ",
        "outputId": "67248172-fb39-4378-9aaa-9439333b9316"
      },
      "source": [
        "lst1 = ['a', 'b', 'c', 'd', 'e', 'f']\n",
        "lst2 = [1, 2, 3, 4, 5]\n",
        "\n",
        "dict1 = dict(zip(lst1,lst2))\n",
        "print(dict1.items())"
      ],
      "execution_count": null,
      "outputs": [
        {
          "output_type": "stream",
          "text": [
            "dict_items([('a', 1), ('b', 2), ('c', 3), ('d', 4), ('e', 5)])\n"
          ],
          "name": "stdout"
        }
      ]
    }
  ]
}